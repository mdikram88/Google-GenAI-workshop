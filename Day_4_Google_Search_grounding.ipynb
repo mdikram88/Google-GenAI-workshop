{
  "nbformat": 4,
  "nbformat_minor": 0,
  "metadata": {
    "colab": {
      "provenance": []
    },
    "kernelspec": {
      "name": "python3",
      "display_name": "Python 3"
    },
    "language_info": {
      "name": "python"
    }
  },
  "cells": [
    {
      "cell_type": "markdown",
      "source": [
        "# Day 4 - Google Search grounding with the Gemini API\n",
        "\n",
        "Welcome back to the Kaggle 5-day Generative AI course!\n",
        "\n",
        "In this optional notebook, you will use [Google Search](https://google.com/) results with the Gemini API in a technique called grounding, where the model is connected to verifiable sources of information. Using search grounding is similar to using the RAG system you implemented earlier in the week, but the Gemini API automates a lot of it for you. The model generates Google Search queries and invokes the searches automatically, retrieving relevant data from Google's index of the web and providing links to search suggestions that support the query, so your users can verify the sources.\n",
        "\n",
        "## Enable billing or use AI Studio\n",
        "\n",
        "**Important!**\n",
        "\n",
        "There are two ways to complete this codelab. Either through Google AI Studio, or through the API.\n",
        "\n",
        "Grounding with Google Search is only available through the API for **\"pay-as-you-go\"** accounts. However, you can try the feature for **no charge** in [Google AI Studio](https://aistudio.google.com/). **You are not required to enable billing to complete this course.**\n",
        "\n",
        "Continue on with this guide from the `API: Get set up` section if you have enabled billing for your API key, or continue to `No charge: Use Google AI Studio` to try out the feature free of charge.\n",
        "\n",
        "Note that Grounding with Google Search has been released as a limited launch and is not available in all locations. The EEA, UK, and CH regions will be supported at a later date. Running this notebook is **optional** and not required for the 5-day GenAI course.\n",
        "\n",
        "Check out the following links related to billing:\n",
        "\n",
        "* Learn how to [enable billing](https://ai.google.dev/gemini-api/docs/billing#enable-cloud-billing)\n",
        "* Learn about Google Cloud's [$300 credit for new customers](https://cloud.google.com/free/docs/free-cloud-features) and [other no-cost options](https://cloud.google.com/free)\n",
        "* View the [pricing page](https://ai.google.dev/pricing)"
      ],
      "metadata": {
        "id": "74W2YfT2RQgQ"
      }
    },
    {
      "cell_type": "markdown",
      "source": [
        "## API: Get set up\n",
        "\n",
        "This section requires an API key with billing enabled. Start by installing and importing the Gemini API Python SDK."
      ],
      "metadata": {
        "id": "fqtYTxYpRtQ2"
      }
    },
    {
      "cell_type": "code",
      "execution_count": 1,
      "metadata": {
        "id": "XIdTcB_iRJES"
      },
      "outputs": [],
      "source": [
        "%pip install -q -U 'google-generativeai>=0.8.3'"
      ]
    },
    {
      "cell_type": "code",
      "source": [
        "import google.generativeai as genai\n",
        "from google.colab import userdata\n",
        "\n",
        "GOOGLE_API_KEY = userdata.get(\"GOOGLE_API_KEY\")\n",
        "genai.configure(api_key=GOOGLE_API_KEY)"
      ],
      "metadata": {
        "id": "Zbg800qWSB4S"
      },
      "execution_count": 2,
      "outputs": []
    },
    {
      "cell_type": "code",
      "source": [
        "from IPython.display import Markdown, HTML, display"
      ],
      "metadata": {
        "id": "BHEmpWBUSRUA"
      },
      "execution_count": 3,
      "outputs": []
    },
    {
      "cell_type": "code",
      "source": [
        "for model in genai.list_models():\n",
        "  if \"002\" in model.name:\n",
        "    print(model.name)\n"
      ],
      "metadata": {
        "colab": {
          "base_uri": "https://localhost:8080/",
          "height": 52
        },
        "id": "qaPoD_NZSfxi",
        "outputId": "7324844c-bcc0-449f-e1e9-d7f53544627e"
      },
      "execution_count": 5,
      "outputs": [
        {
          "output_type": "stream",
          "name": "stdout",
          "text": [
            "models/gemini-1.5-pro-002\n",
            "models/gemini-1.5-flash-002\n"
          ]
        }
      ]
    },
    {
      "cell_type": "markdown",
      "source": [
        "## Use search grounding\n",
        "\n",
        "To enable search grounding, you specify it as a tool: `google_search_retrieval`. Like other tools, this can be supplied as a parameter to the model (to use on all chat turns or calls to `generate_content`), or it can be supplied per-turn to `chat.send_message`.\n",
        "\n",
        "\n",
        "<table align=left>\n",
        "  <td>\n",
        "    <a target=\"_blank\" href=\"https://aistudio.google.com/app/prompts/1GTkO-gH4vd6G7LpBJ6Ay7U1OaJer7yDD\"><img src=\"https://ai.google.dev/site-assets/images/marketing/home/icon-ais.png\" style=\"height: 24px\" height=24/> Open in AI Studio</a>\n",
        "  </td>\n",
        "</table>"
      ],
      "metadata": {
        "id": "SsXY978iS57u"
      }
    },
    {
      "cell_type": "code",
      "source": [
        "# Ask for information without search grounding.\n",
        "model = genai.GenerativeModel(\"gemini-1.5-flash-002\")\n",
        "\n",
        "response = model.generate_content(\"When and where is Taylor Swift's next concert?\")\n",
        "\n",
        "Markdown(response.text)"
      ],
      "metadata": {
        "colab": {
          "base_uri": "https://localhost:8080/",
          "height": 163
        },
        "id": "FSat4GgRSpgF",
        "outputId": "b6166daf-e887-4114-c849-fb51a2dfaf0a"
      },
      "execution_count": 6,
      "outputs": [
        {
          "output_type": "execute_result",
          "data": {
            "text/plain": [
              "<IPython.core.display.Markdown object>"
            ],
            "text/markdown": "I do not have access to real-time information, including live event schedules like concert dates.  To find the date and location of Taylor Swift's next concert, I recommend checking these resources:\n\n* **Taylor Swift's Official Website:** This is the best place to find official tour dates.\n* **Ticketmaster:** A major ticket seller, often listing tour dates.\n* **Other Ticket Retailers:** Check sites like SeatGeek, Vivid Seats, etc.\n* **Social Media:** Follow Taylor Swift's official social media accounts for announcements.\n\n\nBe aware that concert dates are subject to change, so always double-check the information closer to the potential date.\n"
          },
          "metadata": {},
          "execution_count": 6
        }
      ]
    },
    {
      "cell_type": "markdown",
      "source": [
        "Now try with grounding enabled.\n",
        "\n",
        "<table align=left>\n",
        "  <td>\n",
        "    <a target=\"_blank\" href=\"https://aistudio.google.com/prompts/14lDR0VjSni6BEUCZUBqj5PzTn3J194Th\"><img src=\"https://ai.google.dev/site-assets/images/marketing/home/icon-ais.png\" style=\"height: 24px\" height=24/> Open in AI Studio</a>\n",
        "  </td>\n",
        "</table>"
      ],
      "metadata": {
        "id": "OFd4shVCTF-T"
      }
    },
    {
      "cell_type": "code",
      "source": [
        "# And now re-run the same query with search grounding enabled.\n",
        "model = genai.GenerativeModel(\n",
        "    \"gemini-1.5-flash-002\",\n",
        "    tools=\"google_search_retrieval\")\n",
        "\n",
        "response = model.generate_content(\"When and where is Taylor Swift's next concert?\")\n",
        "rc = response.candidates[0]\n",
        "\n",
        "Markdown(rc.content.parts[0].text)"
      ],
      "metadata": {
        "id": "IACW01zTTCJN"
      },
      "execution_count": 9,
      "outputs": []
    },
    {
      "cell_type": "markdown",
      "source": [
        "If you receive a `429 Resource has been exhausted` error, you are likely using a free tier API key. You can choose to enable billing (but this will incur charges), or you can try the queries in Google AI Studio by following the `Open in AI Studio` links above."
      ],
      "metadata": {
        "id": "gVkD7KH8TdSt"
      }
    },
    {
      "cell_type": "markdown",
      "source": [
        "### Response metadata\n",
        "\n",
        "When search grounding is used, the model returns extra metadata that includes links to search suggestions, supporting documents and information on how the supporting documents were used.\n",
        "\n",
        "Each \"grounding chunk\" represents information retrieved from Google Search that was used in the grounded generation request. Following the URI will take you to the source."
      ],
      "metadata": {
        "id": "A_N_gavjTvMv"
      }
    },
    {
      "cell_type": "code",
      "source": [
        "chunks = rc.grounding_metadata.grounding_chunks\n",
        "for chunk in chunks:\n",
        "    print(chunk)"
      ],
      "metadata": {
        "id": "QuO5zRyBTKBg"
      },
      "execution_count": null,
      "outputs": []
    },
    {
      "cell_type": "markdown",
      "source": [
        "As part of the response, there is a standalone styled HTML content block that you use to link back to relevant search suggestions related to the generation."
      ],
      "metadata": {
        "id": "0qnAn8GnT06s"
      }
    },
    {
      "cell_type": "code",
      "source": [
        "HTML(rc.grounding_metadata.search_entry_point.rendered_content)"
      ],
      "metadata": {
        "id": "AXHNbAglTylj"
      },
      "execution_count": null,
      "outputs": []
    },
    {
      "cell_type": "markdown",
      "source": [
        "The `grounding_supports` in the metadata provide a way for you to correlate the grounding chunks used to the generated output text."
      ],
      "metadata": {
        "id": "0jddCONlT6d0"
      }
    },
    {
      "cell_type": "code",
      "source": [
        "supports = rc.grounding_metadata.grounding_supports\n",
        "for support in supports:\n",
        "    print(support)"
      ],
      "metadata": {
        "id": "6xS001q_T6vl"
      },
      "execution_count": null,
      "outputs": []
    },
    {
      "cell_type": "markdown",
      "source": [
        "These supports can be used to highlight text in the response, or build tables of footnotes."
      ],
      "metadata": {
        "id": "zGcq1o7bUBYN"
      }
    },
    {
      "cell_type": "code",
      "source": [
        "import io\n",
        "\n",
        "markdown_buffer = io.StringIO()\n",
        "\n",
        "# Print the text with footnote markers.\n",
        "markdown_buffer.write(\"Supported text:\\n\\n\")\n",
        "for support in supports:\n",
        "    markdown_buffer.write(\" * \")\n",
        "    markdown_buffer.write(\n",
        "        response.text[support.segment.start_index : support.segment.end_index]\n",
        "    )\n",
        "\n",
        "    for i in support.grounding_chunk_indices:\n",
        "        chunk = chunks[i].web\n",
        "        markdown_buffer.write(f\"<sup>[{i+1}]</sup>\")\n",
        "\n",
        "    markdown_buffer.write(\"\\n\\n\")\n",
        "\n",
        "\n",
        "# And print the footnotes.\n",
        "markdown_buffer.write(\"Citations:\\n\\n\")\n",
        "for i, chunk in enumerate(chunks, start=1):\n",
        "    markdown_buffer.write(f\"* {i}: [{chunk.web.title}]({chunk.web.uri})\\n\")\n",
        "\n",
        "\n",
        "Markdown(markdown_buffer.getvalue())"
      ],
      "metadata": {
        "id": "8CycTDQMUBt5"
      },
      "execution_count": null,
      "outputs": []
    },
    {
      "cell_type": "markdown",
      "source": [
        "### Dynamic grounding\n",
        "\n",
        "In a context where you may not know in advance whether to enable search grounding or not, you can provide the model with a threshold over which it will use search grounding. This is helpful in conversational contexts, where not every turn of conversation requires search data to support a response.\n",
        "\n",
        "If you know whether to enable Search for any given chat turn, you can provide the tool explicitly.\n",
        "\n",
        "\n",
        "<table align=left>\n",
        "  <td>\n",
        "    <a target=\"_blank\" href=\"https://aistudio.google.com/prompts/1VBx_R16kNWa8g7lpLxQPx_08sFtd7tcd\"><img src=\"https://ai.google.dev/site-assets/images/marketing/home/icon-ais.png\" style=\"height: 24px\" height=24/> Open in AI Studio</a>\n",
        "  </td>\n",
        "</table>"
      ],
      "metadata": {
        "id": "_Z_imfdZUG8q"
      }
    },
    {
      "cell_type": "code",
      "source": [
        "nosearch_model = genai.GenerativeModel(\"gemini-1.5-flash-002\")\n",
        "chat = nosearch_model.start_chat()\n",
        "\n",
        "# No search grounding.\n",
        "r = chat.send_message(\"Hello friendly chatbot!\")\n",
        "\n",
        "# Enable search for just this turn.\n",
        "r = chat.send_message(\n",
        "    \"Who took home the 2023 cricket world cup?\", tools=\"google_search_retrieval\"\n",
        ")\n",
        "\n",
        "Markdown(r.text)"
      ],
      "metadata": {
        "id": "VBhjexzoUInl"
      },
      "execution_count": null,
      "outputs": []
    },
    {
      "cell_type": "code",
      "source": [
        "HTML(r.candidates[0].grounding_metadata.search_entry_point.rendered_content)"
      ],
      "metadata": {
        "id": "9QUTuWAMUP_3"
      },
      "execution_count": null,
      "outputs": []
    },
    {
      "cell_type": "markdown",
      "source": [
        "Or you can let the Gemini API calculate a likelihood that the response needs search backing, and define the threshold to use."
      ],
      "metadata": {
        "id": "UqpV_WQiUSnW"
      }
    },
    {
      "cell_type": "code",
      "source": [
        "# The dynamic retrieval score is a probability, so the threshold\n",
        "# must also be bound by [0, 1].\n",
        "search_config = {\n",
        "    \"dynamic_retrieval_config\": {\"mode\": \"MODE_DYNAMIC\", \"dynamic_threshold\": 0.5}\n",
        "}\n",
        "\n",
        "maybe_search_model = genai.GenerativeModel(\n",
        "    \"gemini-1.5-flash-002\", tools={\"google_search_retrieval\": search_config}\n",
        ")\n",
        "\n",
        "chat = maybe_search_model.start_chat()\n",
        "\n",
        "r = chat.send_message(\"Hello friendly chatbot!\")\n",
        "rc = r.candidates[0]\n",
        "score = rc.grounding_metadata.retrieval_metadata.google_search_dynamic_retrieval_score\n",
        "print(f\"First turn: {score=}\")\n",
        "\n",
        "r = chat.send_message(\"Who took home the 2023 cricket world cup?\")\n",
        "rc = r.candidates[0]\n",
        "score = rc.grounding_metadata.retrieval_metadata.google_search_dynamic_retrieval_score\n",
        "print(f\"Second turn: {score=}\")\n",
        "print()\n",
        "\n",
        "display(Markdown(r.text))"
      ],
      "metadata": {
        "id": "cEqDSYTwUTCc"
      },
      "execution_count": null,
      "outputs": []
    },
    {
      "cell_type": "code",
      "source": [
        "HTML(rc.grounding_metadata.search_entry_point.rendered_content)"
      ],
      "metadata": {
        "id": "tolRw3ARUWqm"
      },
      "execution_count": null,
      "outputs": []
    }
  ]
}