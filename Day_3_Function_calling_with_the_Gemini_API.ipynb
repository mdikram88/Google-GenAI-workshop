{
  "nbformat": 4,
  "nbformat_minor": 0,
  "metadata": {
    "colab": {
      "provenance": []
    },
    "kernelspec": {
      "name": "python3",
      "display_name": "Python 3"
    },
    "language_info": {
      "name": "python"
    }
  },
  "cells": [
    {
      "cell_type": "markdown",
      "source": [
        "# Day 3 - Function calling with the Gemini API\n",
        "\n",
        "Welcome back to the Kaggle 5-day Generative AI course!\n",
        "\n",
        "In this notebook, you will use the Gemini API's automatic function calling to build a chat interface over a local database. This example is a toy and is missing a number of safety and security constraints you would use in a real-world example.\n",
        "\n",
        "## For help\n",
        "\n",
        "**Common issues are covered in the [FAQ and troubleshooting guide](https://www.kaggle.com/code/markishere/day-0-troubleshooting-and-faqs).**"
      ],
      "metadata": {
        "id": "Q7CvUDhheUbZ"
      }
    },
    {
      "cell_type": "markdown",
      "source": [
        "## Setup\n",
        "\n",
        "Start by installing and importing the Python SDK."
      ],
      "metadata": {
        "id": "IPtBpgYfecRs"
      }
    },
    {
      "cell_type": "code",
      "execution_count": null,
      "metadata": {
        "id": "86SooSSHePX3"
      },
      "outputs": [],
      "source": [
        "%pip install -q -U 'google-generativeai>=0.8.3'"
      ]
    },
    {
      "cell_type": "code",
      "source": [
        "import google.generativeai as genai"
      ],
      "metadata": {
        "id": "CXgwBU6yejYX"
      },
      "execution_count": null,
      "outputs": []
    },
    {
      "cell_type": "code",
      "source": [
        "from google.colab import userdata\n",
        "GOOGLE_API_KEY = userdata.get(\"GOOGLE_API_KEY\")\n",
        "# genai.configure(api_key=GOOGLE_API_KEY)\n",
        "# print(GOOGLE_API_KEY)\n",
        "genai.configure(api_key=GOOGLE_API_KEY)"
      ],
      "metadata": {
        "id": "0hwycmXwewFj"
      },
      "execution_count": null,
      "outputs": []
    },
    {
      "cell_type": "markdown",
      "source": [
        "## Create a local database\n",
        "\n",
        "For this minimal example, you'll create a local SQLite database and add some synthetic data so you have something to query.\n",
        "\n",
        "Load the `sql` IPython extension so you can interact with the database using magic commands (the `%` instructions) to create a new, empty SQLite database."
      ],
      "metadata": {
        "id": "eZtVFoSYevNH"
      }
    },
    {
      "cell_type": "code",
      "source": [
        "%load_ext sql\n",
        "%sql sqlite:///sample.db"
      ],
      "metadata": {
        "id": "ZEmcr3Wqeqrd"
      },
      "execution_count": null,
      "outputs": []
    },
    {
      "cell_type": "markdown",
      "source": [
        "Create the tables and insert some synthetic data. Feel free to tweak this structure and data."
      ],
      "metadata": {
        "id": "ZpvT-qeOfRpP"
      }
    },
    {
      "cell_type": "code",
      "source": [
        "%%sql\n",
        "-- Create the 'products' table\n",
        "CREATE TABLE IF NOT EXISTS products (\n",
        "  \tproduct_id INTEGER PRIMARY KEY AUTOINCREMENT,\n",
        "  \tproduct_name VARCHAR(255) NOT NULL,\n",
        "  \tprice DECIMAL(10, 2) NOT NULL\n",
        "  );\n",
        "\n",
        "-- Create the 'staff' table\n",
        "CREATE TABLE IF NOT EXISTS staff (\n",
        "  \tstaff_id INTEGER PRIMARY KEY AUTOINCREMENT,\n",
        "  \tfirst_name VARCHAR(255) NOT NULL,\n",
        "  \tlast_name VARCHAR(255) NOT NULL\n",
        "  );\n",
        "\n",
        "-- Create the 'orders' table\n",
        "CREATE TABLE IF NOT EXISTS orders (\n",
        "  \torder_id INTEGER PRIMARY KEY AUTOINCREMENT,\n",
        "  \tcustomer_name VARCHAR(255) NOT NULL,\n",
        "  \tstaff_id INTEGER NOT NULL,\n",
        "  \tproduct_id INTEGER NOT NULL,\n",
        "  \tFOREIGN KEY (staff_id) REFERENCES staff (staff_id),\n",
        "  \tFOREIGN KEY (product_id) REFERENCES products (product_id)\n",
        "  );\n",
        "\n",
        "-- Insert data into the 'products' table\n",
        "INSERT INTO products (product_name, price) VALUES\n",
        "  \t('Laptop', 799.99),\n",
        "  \t('Keyboard', 129.99),\n",
        "  \t('Mouse', 29.99);\n",
        "\n",
        "-- Insert data into the 'staff' table\n",
        "INSERT INTO staff (first_name, last_name) VALUES\n",
        "  \t('Alice', 'Smith'),\n",
        "  \t('Bob', 'Johnson'),\n",
        "  \t('Charlie', 'Williams');\n",
        "\n",
        "-- Insert data into the 'orders' table\n",
        "INSERT INTO orders (customer_name, staff_id, product_id) VALUES\n",
        "  \t('David Lee', 1, 1),\n",
        "  \t('Emily Chen', 2, 2),\n",
        "  \t('Frank Brown', 1, 3);"
      ],
      "metadata": {
        "colab": {
          "base_uri": "https://localhost:8080/"
        },
        "id": "E3YmkDqkfMlb",
        "outputId": "d0ef976c-563d-4638-8ab8-bffc78db9fca"
      },
      "execution_count": null,
      "outputs": [
        {
          "output_type": "stream",
          "name": "stdout",
          "text": [
            " * sqlite:///sample.db\n",
            "Done.\n",
            "Done.\n",
            "Done.\n",
            "3 rows affected.\n",
            "3 rows affected.\n",
            "3 rows affected.\n"
          ]
        },
        {
          "output_type": "execute_result",
          "data": {
            "text/plain": [
              "[]"
            ]
          },
          "metadata": {},
          "execution_count": 6
        }
      ]
    },
    {
      "cell_type": "markdown",
      "source": [
        "## Define database functions\n",
        "\n",
        "Function calling with Gemini API's Python SDK can be implemented by defining [an OpenAPI schema](https://ai.google.dev/api/caching#Schema) that is passed to the model. Alternatively you can define Python functions and let the SDK inspect them to automatically define the schema. In this latter case, it's important that the functions are type annotated and have accurate docstrings that describe what the functions do - the model has no insight into the function body, so the docs function as the interface.\n",
        "\n",
        "By providing three key pieces of functionality - listing tables, describing a table, and executing a query - the LLM (or even another user) will have the basic tools needed to understand and interrogate the database.\n",
        "\n",
        "Start with a database connection that will be used across all of the functions."
      ],
      "metadata": {
        "id": "x-l1u1Ibh5qa"
      }
    },
    {
      "cell_type": "code",
      "source": [
        "import sqlite3\n",
        "\n",
        "db_file = \"sample.db\"\n",
        "db_conn = sqlite3.connect(db_file)"
      ],
      "metadata": {
        "id": "k3I4ESgefTvd"
      },
      "execution_count": null,
      "outputs": []
    },
    {
      "cell_type": "markdown",
      "source": [
        "The first function will list all tables available in the database. Define it, and test it out to ensure it works."
      ],
      "metadata": {
        "id": "1K_jIs64j73M"
      }
    },
    {
      "cell_type": "code",
      "source": [
        "def list_tables() -> list[str]:\n",
        "    \"\"\"Retrieve the names of all tables in the database.\"\"\"\n",
        "    # Include print logging statements so you can see when functions are being called.\n",
        "    print(' - DB CALL: list_tables')\n",
        "\n",
        "    cursor = db_conn.cursor()\n",
        "\n",
        "    # Fetch the table names.\n",
        "    cursor.execute(\"SELECT name FROM sqlite_master WHERE type='table';\")\n",
        "\n",
        "    tables = cursor.fetchall()\n",
        "    return [t[0] for t in tables]\n",
        "\n",
        "\n",
        "list_tables()"
      ],
      "metadata": {
        "colab": {
          "base_uri": "https://localhost:8080/"
        },
        "id": "bMxMnB6wjycV",
        "outputId": "1f60d32d-48f3-4324-e264-711cf6bd5681"
      },
      "execution_count": null,
      "outputs": [
        {
          "output_type": "stream",
          "name": "stdout",
          "text": [
            " - DB CALL: list_tables\n"
          ]
        },
        {
          "output_type": "execute_result",
          "data": {
            "text/plain": [
              "['products', 'sqlite_sequence', 'staff', 'orders']"
            ]
          },
          "metadata": {},
          "execution_count": 9
        }
      ]
    },
    {
      "cell_type": "markdown",
      "source": [
        "Once the available tables is known, the next step a database user will need is to understand what columns are available in a given table. Define that too, and test that it works as expected."
      ],
      "metadata": {
        "id": "v4jrOL6nkgk6"
      }
    },
    {
      "cell_type": "code",
      "source": [
        "def describe_table(table_name: str) -> list[tuple[str, str]]:\n",
        "    \"\"\"Look up the table schema.\n",
        "\n",
        "    Returns:\n",
        "      List of columns, where each entry is a tuple of (column, type).\n",
        "    \"\"\"\n",
        "    print(' - DB CALL: describe_table')\n",
        "\n",
        "    cursor = db_conn.cursor()\n",
        "\n",
        "    cursor.execute(f\"PRAGMA table_info({table_name});\")\n",
        "\n",
        "    schema = cursor.fetchall()\n",
        "    # [column index, column name, column type, ...]\n",
        "    return [(col[1], col[2]) for col in schema]\n",
        "\n",
        "\n",
        "describe_table(\"products\")"
      ],
      "metadata": {
        "colab": {
          "base_uri": "https://localhost:8080/"
        },
        "id": "XJ6SA_Ttj-hA",
        "outputId": "5247287c-0f83-40b8-fa51-fd68487256f8"
      },
      "execution_count": null,
      "outputs": [
        {
          "output_type": "stream",
          "name": "stdout",
          "text": [
            " - DB CALL: describe_table\n"
          ]
        },
        {
          "output_type": "execute_result",
          "data": {
            "text/plain": [
              "[('product_id', 'INTEGER'),\n",
              " ('product_name', 'VARCHAR(255)'),\n",
              " ('price', 'DECIMAL(10, 2)')]"
            ]
          },
          "metadata": {},
          "execution_count": 10
        }
      ]
    },
    {
      "cell_type": "markdown",
      "source": [
        "Now that the system knows what tables and columns are present, it has enough information to be able to generate and run a `SELECT` query. Now provide that functionality, and test that it works."
      ],
      "metadata": {
        "id": "Eg01jVWik1qf"
      }
    },
    {
      "cell_type": "code",
      "source": [
        "def execute_query(sql: str) -> list[list[str]]:\n",
        "    \"\"\"Execute a SELECT statement, returning the results.\"\"\"\n",
        "    print(' - DB CALL: execute_query')\n",
        "\n",
        "    cursor = db_conn.cursor()\n",
        "\n",
        "    cursor.execute(sql)\n",
        "    return cursor.fetchall()\n",
        "\n",
        "\n",
        "execute_query(\"select * from products\")"
      ],
      "metadata": {
        "colab": {
          "base_uri": "https://localhost:8080/"
        },
        "id": "GXzkTE8bkmT4",
        "outputId": "af92fd18-8142-4c5c-ce11-4ae820c58e7b"
      },
      "execution_count": null,
      "outputs": [
        {
          "output_type": "stream",
          "name": "stdout",
          "text": [
            " - DB CALL: execute_query\n"
          ]
        },
        {
          "output_type": "execute_result",
          "data": {
            "text/plain": [
              "[(1, 'Laptop', 799.99), (2, 'Keyboard', 129.99), (3, 'Mouse', 29.99)]"
            ]
          },
          "metadata": {},
          "execution_count": 11
        }
      ]
    },
    {
      "cell_type": "markdown",
      "source": [
        "## Implement function calls\n",
        "\n",
        "Now you can put it all together in a call to the Gemini API.\n",
        "\n",
        "Function calling works by adding specific messages to a chat session. When function schemas are defined and made available to the model and a conversation is started, instead of returning a text response, the model may return a `function_call` instead. When this happens, the client must respond with a `function_response`, indicating the result of the call, and the conversation can continue on as normal.\n",
        "\n",
        "This function calling interaction normally happens manually, allowing you, the client, to validate and initiate the call. However the Python SDK also supports **automatic function calling**, where the supplied functions will be automatically invoked. This is a powerful feature and should only be exposed when it is safe to do so, such as when the functions have no [side-effects](https://en.wikipedia.org/wiki/Side_effect_(computer_science)).\n",
        "\n",
        "Here's the state diagram representing the conversation flow with function calling. With automatic function calling, the bottom row is executed automatically by the Python SDK. In manual function calling, you write the code to run each step individually.\n",
        "\n",
        "![function calling state diagram](https://codelabs.developers.google.com/static/codelabs/gemini-function-calling/img/gemini-function-calling-overview_1440.png)"
      ],
      "metadata": {
        "id": "1MN9nQBnosXB"
      }
    },
    {
      "cell_type": "code",
      "source": [
        "# These are the Python functions defined above.\n",
        "db_tools = [list_tables, describe_table, execute_query]\n",
        "\n",
        "instruction = \"\"\"You are a helpful chatbot that can interact with an SQL database for a computer\n",
        "store. You will take the users questions and turn them into SQL queries using the tools\n",
        "available. Once you have the information you need, you will answer the user's question using\n",
        "the data returned. Use list_tables to see what tables are present, describe_table to understand\n",
        "the schema, and execute_query to issue an SQL SELECT query.\"\"\"\n",
        "\n",
        "model = genai.GenerativeModel(\n",
        "    \"models/gemini-1.5-flash-latest\", tools=db_tools, system_instruction=instruction\n",
        ")\n",
        "\n",
        "# Define a retry policy. The model might make multiple consecutive calls automatically\n",
        "# for a complex query, this ensures the client retries if it hits quota limits.\n",
        "from google.api_core import retry\n",
        "\n",
        "retry_policy = {\"retry\": retry.Retry(predicate=retry.if_transient_error)}\n",
        "\n",
        "# Start a chat with automatic function calling enabled.\n",
        "chat = model.start_chat(enable_automatic_function_calling=True)"
      ],
      "metadata": {
        "id": "e-wil8DKopDG"
      },
      "execution_count": null,
      "outputs": []
    },
    {
      "cell_type": "markdown",
      "source": [
        "Now you can engage in a chat conversation where you can ask about the contents of the database."
      ],
      "metadata": {
        "id": "814Z4TJVpsnT"
      }
    },
    {
      "cell_type": "code",
      "source": [
        "resp = chat.send_message(\"What is the cheapest product?\", request_options=retry_policy)\n",
        "print(resp.text)"
      ],
      "metadata": {
        "colab": {
          "base_uri": "https://localhost:8080/",
          "height": 104
        },
        "id": "JkCJ61Scpojs",
        "outputId": "41f71be5-cfa4-47d7-ae0d-d713e76f0802"
      },
      "execution_count": null,
      "outputs": [
        {
          "output_type": "stream",
          "name": "stdout",
          "text": [
            " - DB CALL: list_tables\n",
            " - DB CALL: describe_table\n",
            " - DB CALL: execute_query\n",
            "The cheapest product is the Mouse, costing $29.99.\n",
            "\n"
          ]
        }
      ]
    },
    {
      "cell_type": "markdown",
      "source": [
        "If you re-use the same [`ChatSession`](https://github.com/google-gemini/generative-ai-python/blob/main/docs/api/google/generativeai/ChatSession.md) object, the conversation will continue statefully. If you wish to start fresh, you can call [`start_chat`](https://github.com/google-gemini/generative-ai-python/blob/main/docs/api/google/generativeai/GenerativeModel.md#start_chat) again, or call [`rewind`](https://github.com/google-gemini/generative-ai-python/blob/main/docs/api/google/generativeai/ChatSession.md#rewind) on the chat object to go back a turn.\n",
        "\n",
        "Continue the chat here by asking a follow-up question. Note that the database information is preserved, and the context of the specific product is inferred."
      ],
      "metadata": {
        "id": "a8G_B26rqKzI"
      }
    },
    {
      "cell_type": "code",
      "source": [
        "resp = chat.send_message(\"and how much is it?\", request_options=retry_policy)\n",
        "print(resp.text)"
      ],
      "metadata": {
        "colab": {
          "base_uri": "https://localhost:8080/",
          "height": 52
        },
        "id": "Poj3eph4puxR",
        "outputId": "ec1c15ec-0608-4dbc-f7ee-9dbb5fa2aa26"
      },
      "execution_count": null,
      "outputs": [
        {
          "output_type": "stream",
          "name": "stdout",
          "text": [
            "The Mouse costs $29.99.\n",
            "\n"
          ]
        }
      ]
    },
    {
      "cell_type": "markdown",
      "source": [
        "Explore the chat session and ask your own questions. If you want to try asking more complex questions, try using the `gemini-1.5-pro` model. It has a lower rate limit, so calls might take a bit longer on the free tier, but you'll notice an improvement in expressivity."
      ],
      "metadata": {
        "id": "9YwS40YpqUEN"
      }
    },
    {
      "cell_type": "code",
      "source": [
        "model = genai.GenerativeModel(\n",
        "    \"models/gemini-1.5-pro-latest\", tools=db_tools, system_instruction=instruction\n",
        ")\n",
        "\n",
        "chat = model.start_chat(enable_automatic_function_calling=True)\n",
        "response = chat.send_message('Which salesperson sold the cheapest product?', request_options=retry_policy)\n",
        "print(response.text)"
      ],
      "metadata": {
        "colab": {
          "base_uri": "https://localhost:8080/",
          "height": 139
        },
        "id": "M2hNJTvmqNbQ",
        "outputId": "58f179e0-7f0a-4162-8dd7-eedfa6998a7e"
      },
      "execution_count": null,
      "outputs": [
        {
          "output_type": "stream",
          "name": "stdout",
          "text": [
            " - DB CALL: list_tables\n",
            " - DB CALL: describe_table\n",
            " - DB CALL: describe_table\n",
            " - DB CALL: describe_table\n",
            " - DB CALL: execute_query\n"
          ]
        },
        {
          "output_type": "stream",
          "name": "stderr",
          "text": [
            "WARNING:tornado.access:429 POST /v1beta/models/gemini-1.5-pro-latest:generateContent?%24alt=json%3Benum-encoding%3Dint (127.0.0.1) 733.14ms\n"
          ]
        },
        {
          "output_type": "stream",
          "name": "stdout",
          "text": [
            "Alice Smith sold the cheapest product.\n"
          ]
        }
      ]
    },
    {
      "cell_type": "markdown",
      "source": [
        "### Inspecting the conversation\n",
        "\n",
        "To see the calls that the model makes, and what the client returns in response, you can inspect `chat.history`. This helper function will print out each turn along with the relevant fields passed or returned."
      ],
      "metadata": {
        "id": "8dbnzoOuqckz"
      }
    },
    {
      "cell_type": "code",
      "source": [
        "import textwrap\n",
        "\n",
        "\n",
        "def print_chat_turns(chat):\n",
        "    \"\"\"Prints out each turn in the chat history, including function calls and responses.\"\"\"\n",
        "    for event in chat.history:\n",
        "        print(f\"{event.role.capitalize()}:\")\n",
        "\n",
        "        for part in event.parts:\n",
        "            if txt := part.text:\n",
        "                print(f'  \"{txt}\"')\n",
        "            elif fn := part.function_call:\n",
        "                args = \", \".join(f\"{key}={val}\" for key, val in fn.args.items())\n",
        "                print(f\"  Function call: {fn.name}({args})\")\n",
        "            elif resp := part.function_response:\n",
        "                print(\"  Function response:\")\n",
        "                print(textwrap.indent(str(resp), \"    \"))\n",
        "\n",
        "        print()\n",
        "\n",
        "\n",
        "print_chat_turns(chat)"
      ],
      "metadata": {
        "colab": {
          "base_uri": "https://localhost:8080/"
        },
        "id": "4UWyquYOqXkr",
        "outputId": "8d28e748-fc00-4c8b-86c0-ab0e12aea80f"
      },
      "execution_count": null,
      "outputs": [
        {
          "output_type": "stream",
          "name": "stdout",
          "text": [
            "User:\n",
            "  \"Which salesperson sold the cheapest product?\"\n",
            "\n",
            "Model:\n",
            "  Function call: list_tables()\n",
            "\n",
            "User:\n",
            "  Function response:\n",
            "    name: \"list_tables\"\n",
            "    response {\n",
            "      fields {\n",
            "        key: \"result\"\n",
            "        value {\n",
            "          list_value {\n",
            "            values {\n",
            "              string_value: \"products\"\n",
            "            }\n",
            "            values {\n",
            "              string_value: \"sqlite_sequence\"\n",
            "            }\n",
            "            values {\n",
            "              string_value: \"staff\"\n",
            "            }\n",
            "            values {\n",
            "              string_value: \"orders\"\n",
            "            }\n",
            "          }\n",
            "        }\n",
            "      }\n",
            "    }\n",
            "\n",
            "\n",
            "Model:\n",
            "  Function call: describe_table(table_name=products)\n",
            "\n",
            "User:\n",
            "  Function response:\n",
            "    name: \"describe_table\"\n",
            "    response {\n",
            "      fields {\n",
            "        key: \"result\"\n",
            "        value {\n",
            "          list_value {\n",
            "            values {\n",
            "              list_value {\n",
            "                values {\n",
            "                  string_value: \"product_id\"\n",
            "                }\n",
            "                values {\n",
            "                  string_value: \"INTEGER\"\n",
            "                }\n",
            "              }\n",
            "            }\n",
            "            values {\n",
            "              list_value {\n",
            "                values {\n",
            "                  string_value: \"product_name\"\n",
            "                }\n",
            "                values {\n",
            "                  string_value: \"VARCHAR(255)\"\n",
            "                }\n",
            "              }\n",
            "            }\n",
            "            values {\n",
            "              list_value {\n",
            "                values {\n",
            "                  string_value: \"price\"\n",
            "                }\n",
            "                values {\n",
            "                  string_value: \"DECIMAL(10, 2)\"\n",
            "                }\n",
            "              }\n",
            "            }\n",
            "          }\n",
            "        }\n",
            "      }\n",
            "    }\n",
            "\n",
            "\n",
            "Model:\n",
            "  Function call: describe_table(table_name=orders)\n",
            "\n",
            "User:\n",
            "  Function response:\n",
            "    name: \"describe_table\"\n",
            "    response {\n",
            "      fields {\n",
            "        key: \"result\"\n",
            "        value {\n",
            "          list_value {\n",
            "            values {\n",
            "              list_value {\n",
            "                values {\n",
            "                  string_value: \"order_id\"\n",
            "                }\n",
            "                values {\n",
            "                  string_value: \"INTEGER\"\n",
            "                }\n",
            "              }\n",
            "            }\n",
            "            values {\n",
            "              list_value {\n",
            "                values {\n",
            "                  string_value: \"customer_name\"\n",
            "                }\n",
            "                values {\n",
            "                  string_value: \"VARCHAR(255)\"\n",
            "                }\n",
            "              }\n",
            "            }\n",
            "            values {\n",
            "              list_value {\n",
            "                values {\n",
            "                  string_value: \"staff_id\"\n",
            "                }\n",
            "                values {\n",
            "                  string_value: \"INTEGER\"\n",
            "                }\n",
            "              }\n",
            "            }\n",
            "            values {\n",
            "              list_value {\n",
            "                values {\n",
            "                  string_value: \"product_id\"\n",
            "                }\n",
            "                values {\n",
            "                  string_value: \"INTEGER\"\n",
            "                }\n",
            "              }\n",
            "            }\n",
            "          }\n",
            "        }\n",
            "      }\n",
            "    }\n",
            "\n",
            "\n",
            "Model:\n",
            "  Function call: describe_table(table_name=staff)\n",
            "\n",
            "User:\n",
            "  Function response:\n",
            "    name: \"describe_table\"\n",
            "    response {\n",
            "      fields {\n",
            "        key: \"result\"\n",
            "        value {\n",
            "          list_value {\n",
            "            values {\n",
            "              list_value {\n",
            "                values {\n",
            "                  string_value: \"staff_id\"\n",
            "                }\n",
            "                values {\n",
            "                  string_value: \"INTEGER\"\n",
            "                }\n",
            "              }\n",
            "            }\n",
            "            values {\n",
            "              list_value {\n",
            "                values {\n",
            "                  string_value: \"first_name\"\n",
            "                }\n",
            "                values {\n",
            "                  string_value: \"VARCHAR(255)\"\n",
            "                }\n",
            "              }\n",
            "            }\n",
            "            values {\n",
            "              list_value {\n",
            "                values {\n",
            "                  string_value: \"last_name\"\n",
            "                }\n",
            "                values {\n",
            "                  string_value: \"VARCHAR(255)\"\n",
            "                }\n",
            "              }\n",
            "            }\n",
            "          }\n",
            "        }\n",
            "      }\n",
            "    }\n",
            "\n",
            "\n",
            "Model:\n",
            "  Function call: execute_query(sql=SELECT first_name, last_name FROM staff WHERE staff_id = (SELECT staff_id FROM orders WHERE product_id = (SELECT product_id FROM products ORDER BY price ASC LIMIT 1)))\n",
            "\n",
            "User:\n",
            "  Function response:\n",
            "    name: \"execute_query\"\n",
            "    response {\n",
            "      fields {\n",
            "        key: \"result\"\n",
            "        value {\n",
            "          list_value {\n",
            "            values {\n",
            "              list_value {\n",
            "                values {\n",
            "                  string_value: \"Alice\"\n",
            "                }\n",
            "                values {\n",
            "                  string_value: \"Smith\"\n",
            "                }\n",
            "              }\n",
            "            }\n",
            "          }\n",
            "        }\n",
            "      }\n",
            "    }\n",
            "\n",
            "\n",
            "Model:\n",
            "  \"Alice Smith sold the cheapest product.\"\n",
            "\n"
          ]
        }
      ]
    },
    {
      "cell_type": "markdown",
      "source": [
        "In this output you can see each of the conversational turns that were made. Note that the model doesn't remember anything outside of a `ChatSession` object, so you can make changes to the database structure or data and the model will respond without needing any code changes - try this out!"
      ],
      "metadata": {
        "id": "aL57rLIaqwXt"
      }
    },
    {
      "cell_type": "code",
      "source": [],
      "metadata": {
        "id": "gZKSeco1qmYj"
      },
      "execution_count": null,
      "outputs": []
    }
  ]
}