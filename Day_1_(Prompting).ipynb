{
  "nbformat": 4,
  "nbformat_minor": 0,
  "metadata": {
    "colab": {
      "provenance": []
    },
    "kernelspec": {
      "name": "python3",
      "display_name": "Python 3"
    },
    "language_info": {
      "name": "python"
    }
  },
  "cells": [
    {
      "cell_type": "markdown",
      "source": [
        "# Day 1 - Prompting\n",
        "\n",
        "Welcome to the Kaggle 5-day Generative AI course!\n",
        "\n",
        "This notebook will show you how to get started with the Gemini API and walk you through some of the example prompts and techniques that you can also read about in the Prompting whitepaper. You don't need to read the whitepaper to use this notebook, but the papers will give you some theoretical context and background to complement this interactive notebook.\n",
        "\n",
        "\n",
        "## Before you begin\n",
        "\n",
        "In this notebook, you'll start exploring prompts and prompt parameters using the Python SDK and AI Studio. For some inspiration, you might enjoy exploring some apps that have been built using the Gemini family of models. Here are a few that we like, and we think you will too.\n",
        "\n",
        "* [TextFX](https://textfx.withgoogle.com/) is a suite of AI-powered tools for rappers, made in collaboration with Lupe Fiasco,\n",
        "* [SQL Talk](https://sql-talk-r5gdynozbq-uc.a.run.app/) shows how you can talk directly to a database using the Gemini API,\n",
        "* [NotebookLM](https://notebooklm.google/) uses Gemini models to build your own personal AI research assistant.\n",
        "\n",
        "\n",
        "## For help\n",
        "\n",
        "**Common issues are covered in the [FAQ and troubleshooting guide](https://www.kaggle.com/code/markishere/day-0-troubleshooting-and-faqs).**\n",
        "\n",
        "### A note on the Gemini API and Vertex AI\n",
        "\n",
        "In the whitepapers, most of the example code uses the Enterprise [Vertex AI platform](https://cloud.google.com/vertex-ai). In contrast, this notebook, along with the others in this series, will use the [Gemini Developer API](https://ai.google.dev/gemini-api/) and [AI Studio](https://aistudio.google.com/).\n",
        "\n",
        "Both APIs provide access to the Gemini family of models, and the code to interact with the models is very similar. Vertex provides a world-class platform for enterprises, governments and advanced users that need powerful features like data governance, ML ops and deep Google Cloud integration.\n",
        "\n",
        "AI Studio is free to use and only requires a compatible Google account to log in and get started. It is deeply integrated with the Gemini API, which comes with a generous [free tier](https://ai.google.dev/pricing) that you can use to run the code in these exercises.\n",
        "\n",
        "If you are already set up with Google Cloud, you can check out the [Enterprise Gemini API](https://cloud.google.com/vertex-ai/generative-ai/docs/model-reference/inference) through Vertex AI, and run the samples directly from the supplied whitepapers."
      ],
      "metadata": {
        "id": "34Yb9ZvrLg6h"
      }
    },
    {
      "cell_type": "markdown",
      "source": [
        "## Get started with the Gemini API\n",
        "\n",
        "All of the exercises in this notebook will use the [Gemini API](https://ai.google.dev/gemini-api/) by way of the [Python SDK](https://pypi.org/project/google-generativeai/). Each of these prompts can be accessed directly in [Google AI Studio](https://aistudio.google.com/) too, so if you would rather use a web interface and skip the code for this activity, look for the <img src=\"https://ai.google.dev/site-assets/images/marketing/home/icon-ais.png\" style=\"height: 24px\" height=24/> AI Studio link on each prompt."
      ],
      "metadata": {
        "id": "_Kfs8gx2LoBE"
      }
    },
    {
      "cell_type": "code",
      "source": [
        "%pip install -U -q \"google-generativeai>=0.8.3\""
      ],
      "metadata": {
        "id": "fCC92JQrLhwX"
      },
      "execution_count": 1,
      "outputs": []
    },
    {
      "cell_type": "markdown",
      "source": [
        "You do not need to restart the kernel."
      ],
      "metadata": {
        "id": "G93z_xDMLzq-"
      }
    },
    {
      "cell_type": "code",
      "source": [
        "import google.generativeai as genai\n",
        "from IPython.display import Markdown, HTML, display"
      ],
      "metadata": {
        "id": "lLuTeUYwLuWI"
      },
      "execution_count": 3,
      "outputs": []
    },
    {
      "cell_type": "code",
      "source": [
        "from google.colab import userdata\n",
        "GOOGLE_API_KEY = userdata.get('GOOGLE_API_KEY')\n",
        "genai.configure(api_key=GOOGLE_API_KEY)"
      ],
      "metadata": {
        "id": "GmXLK7EyMA0b"
      },
      "execution_count": 5,
      "outputs": []
    },
    {
      "cell_type": "markdown",
      "source": [
        "### Run your first prompt\n",
        "\n",
        "In this step, you will test that your API key is set up correctly by making a request. The `gemini-1.5-flash` model has been selected here."
      ],
      "metadata": {
        "id": "HID2EZLMMgQO"
      }
    },
    {
      "cell_type": "code",
      "source": [
        "flash_model = genai.GenerativeModel(\"gemini-1.5-flash\")\n",
        "response = flash_model.generate_content(\"Explain AI to me like I'm a kid.\")\n",
        "print(response.text)"
      ],
      "metadata": {
        "colab": {
          "base_uri": "https://localhost:8080/",
          "height": 228
        },
        "id": "LVhPNXEeMRyd",
        "outputId": "3fd9a0f9-e60c-4427-804a-3baa523c63fc"
      },
      "execution_count": 6,
      "outputs": [
        {
          "output_type": "stream",
          "name": "stdout",
          "text": [
            "Imagine you have a really smart puppy.  You teach it tricks, like \"sit\" and \"fetch.\"  At first, the puppy doesn't know what those words mean, but you show it what to do, and it learns.  The more you teach it, the better it gets!\n",
            "\n",
            "Artificial Intelligence, or AI, is like teaching a computer to be smart, just like you teach a puppy.  We give the computer lots of information and teach it rules, so it can learn to do things like:\n",
            "\n",
            "* **Recognize pictures:**  Like knowing the difference between a cat and a dog in a photo.\n",
            "* **Understand words:**  Like understanding what you're saying when you ask it a question.\n",
            "* **Play games:**  Like getting really good at chess or video games.\n",
            "* **Help you with your homework:**  By finding information or even helping you write a story.\n",
            "\n",
            "It's not actually *thinking* like a human or a puppy, but it's learning to solve problems and do things that usually need a brain!  It's still a pretty new thing, so it's learning all the time, just like your puppy!\n",
            "\n"
          ]
        }
      ]
    },
    {
      "cell_type": "code",
      "source": [
        "Markdown(response.text)"
      ],
      "metadata": {
        "colab": {
          "base_uri": "https://localhost:8080/",
          "height": 221
        },
        "id": "l9CZf-_bMvpB",
        "outputId": "3042ebfc-c1f0-4472-ca6a-69889f0b436f"
      },
      "execution_count": 7,
      "outputs": [
        {
          "output_type": "execute_result",
          "data": {
            "text/plain": [
              "<IPython.core.display.Markdown object>"
            ],
            "text/markdown": "Imagine you have a really smart puppy.  You teach it tricks, like \"sit\" and \"fetch.\"  At first, the puppy doesn't know what those words mean, but you show it what to do, and it learns.  The more you teach it, the better it gets!\n\nArtificial Intelligence, or AI, is like teaching a computer to be smart, just like you teach a puppy.  We give the computer lots of information and teach it rules, so it can learn to do things like:\n\n* **Recognize pictures:**  Like knowing the difference between a cat and a dog in a photo.\n* **Understand words:**  Like understanding what you're saying when you ask it a question.\n* **Play games:**  Like getting really good at chess or video games.\n* **Help you with your homework:**  By finding information or even helping you write a story.\n\nIt's not actually *thinking* like a human or a puppy, but it's learning to solve problems and do things that usually need a brain!  It's still a pretty new thing, so it's learning all the time, just like your puppy!\n"
          },
          "metadata": {},
          "execution_count": 7
        }
      ]
    },
    {
      "cell_type": "markdown",
      "source": [
        "### Start a chat\n",
        "\n",
        "The previous example uses a single-turn, text-in/text-out structure, but you can also set up a multi-turn chat structure too."
      ],
      "metadata": {
        "id": "fTWVwIM_M8Wd"
      }
    },
    {
      "cell_type": "code",
      "source": [
        "chat = flash_model.start_chat(history=[])\n",
        "response = chat.send_message(\"Hello! My name is Ikram.\")\n",
        "print(response.text)"
      ],
      "metadata": {
        "colab": {
          "base_uri": "https://localhost:8080/",
          "height": 52
        },
        "id": "43w9Tku7M6C0",
        "outputId": "07cbc5bc-a60b-4c31-ebdd-a274ea0bb7b4"
      },
      "execution_count": 8,
      "outputs": [
        {
          "output_type": "stream",
          "name": "stdout",
          "text": [
            "Hello Ikram! It's nice to meet you.  How can I help you today?\n",
            "\n"
          ]
        }
      ]
    },
    {
      "cell_type": "code",
      "source": [
        "response = chat.send_message('Can you tell something interesting about dinosaurs?')\n",
        "Markdown(response.text)"
      ],
      "metadata": {
        "colab": {
          "base_uri": "https://localhost:8080/",
          "height": 98
        },
        "id": "6Tk1ow5ZNKKE",
        "outputId": "e5a46051-f9fa-489d-c253-5d827167274e"
      },
      "execution_count": 10,
      "outputs": [
        {
          "output_type": "execute_result",
          "data": {
            "text/plain": [
              "<IPython.core.display.Markdown object>"
            ],
            "text/markdown": "Did you know that some dinosaurs were likely *warm-blooded*?  While traditionally thought of as cold-blooded like reptiles, evidence suggests that at least some dinosaurs, particularly the active predators and larger herbivores, had higher metabolisms and were more like birds and mammals in their ability to regulate body temperature.  This is evidenced by things like bone structure, growth rates, and isotopic analysis.  It's still an area of ongoing research, but the idea of a warm-blooded *T. rex* is pretty fascinating!\n"
          },
          "metadata": {},
          "execution_count": 10
        }
      ]
    },
    {
      "cell_type": "code",
      "source": [
        "# While you have the `chat` object around, the conversation state\n",
        "# persists. Confirm that by asking if it knows my name.\n",
        "response = chat.send_message('Do you remember what my name is?')\n",
        "print(response.text)"
      ],
      "metadata": {
        "colab": {
          "base_uri": "https://localhost:8080/",
          "height": 52
        },
        "id": "M5Z4k9EoNQoo",
        "outputId": "4de3352a-0f52-43e5-c3b0-45a80a1ec626"
      },
      "execution_count": 11,
      "outputs": [
        {
          "output_type": "stream",
          "name": "stdout",
          "text": [
            "Yes, your name is Ikram.\n",
            "\n"
          ]
        }
      ]
    },
    {
      "cell_type": "code",
      "source": [
        "chat.history"
      ],
      "metadata": {
        "colab": {
          "base_uri": "https://localhost:8080/"
        },
        "id": "wA3g4KeINlVg",
        "outputId": "19594b90-46e2-4053-eaf1-1232f1f55d63"
      },
      "execution_count": 12,
      "outputs": [
        {
          "output_type": "execute_result",
          "data": {
            "text/plain": [
              "[parts {\n",
              "   text: \"Hello! My name is Ikram.\"\n",
              " }\n",
              " role: \"user\",\n",
              " parts {\n",
              "   text: \"Hello Ikram! It\\'s nice to meet you.  How can I help you today?\\n\"\n",
              " }\n",
              " role: \"model\",\n",
              " parts {\n",
              "   text: \"Can you tell something interesting about dinosaurs?\"\n",
              " }\n",
              " role: \"user\",\n",
              " parts {\n",
              "   text: \"There\\'s a lot of interesting things about dinosaurs!  To pick just one, I\\'ll go with this:  **Some dinosaurs had feathers.**  While we often picture dinosaurs as scaly reptiles, many, particularly theropods (the group that includes *Tyrannosaurus rex*), sported feathers, ranging from simple filaments to elaborate plumes. This discovery has been incredibly important in understanding the evolutionary relationship between dinosaurs and birds, showing that birds are actually descended from feathered dinosaurs.  It completely changed our understanding of what dinosaurs looked and acted like.\\n\"\n",
              " }\n",
              " role: \"model\",\n",
              " parts {\n",
              "   text: \"Can you tell something interesting about dinosaurs?\"\n",
              " }\n",
              " role: \"user\",\n",
              " parts {\n",
              "   text: \"Did you know that some dinosaurs were likely *warm-blooded*?  While traditionally thought of as cold-blooded like reptiles, evidence suggests that at least some dinosaurs, particularly the active predators and larger herbivores, had higher metabolisms and were more like birds and mammals in their ability to regulate body temperature.  This is evidenced by things like bone structure, growth rates, and isotopic analysis.  It\\'s still an area of ongoing research, but the idea of a warm-blooded *T. rex* is pretty fascinating!\\n\"\n",
              " }\n",
              " role: \"model\",\n",
              " parts {\n",
              "   text: \"Do you remember what my name is?\"\n",
              " }\n",
              " role: \"user\",\n",
              " parts {\n",
              "   text: \"Yes, your name is Ikram.\\n\"\n",
              " }\n",
              " role: \"model\"]"
            ]
          },
          "metadata": {},
          "execution_count": 12
        }
      ]
    },
    {
      "cell_type": "markdown",
      "source": [
        "### Choose a model\n",
        "\n",
        "The Gemini API provides access to a number of models from the Gemini model family. Read about the available models and their capabilities on the [model overview page](https://ai.google.dev/gemini-api/docs/models/gemini).\n",
        "\n",
        "In this step you'll use the API to list all of the available models."
      ],
      "metadata": {
        "id": "c2DwswYSN3ql"
      }
    },
    {
      "cell_type": "code",
      "source": [
        "for model in genai.list_models():\n",
        "  print(model.name)"
      ],
      "metadata": {
        "colab": {
          "base_uri": "https://localhost:8080/",
          "height": 573
        },
        "id": "swAeaLkeNn-f",
        "outputId": "47c29146-431b-4b7b-ebde-e16911216184"
      },
      "execution_count": 13,
      "outputs": [
        {
          "output_type": "stream",
          "name": "stdout",
          "text": [
            "models/chat-bison-001\n",
            "models/text-bison-001\n",
            "models/embedding-gecko-001\n",
            "models/gemini-1.0-pro-latest\n",
            "models/gemini-1.0-pro\n",
            "models/gemini-pro\n",
            "models/gemini-1.0-pro-001\n",
            "models/gemini-1.0-pro-vision-latest\n",
            "models/gemini-pro-vision\n",
            "models/gemini-1.5-pro-latest\n",
            "models/gemini-1.5-pro-001\n",
            "models/gemini-1.5-pro-002\n",
            "models/gemini-1.5-pro\n",
            "models/gemini-1.5-pro-exp-0801\n",
            "models/gemini-1.5-pro-exp-0827\n",
            "models/gemini-1.5-flash-latest\n",
            "models/gemini-1.5-flash-001\n",
            "models/gemini-1.5-flash-001-tuning\n",
            "models/gemini-1.5-flash\n",
            "models/gemini-1.5-flash-exp-0827\n",
            "models/gemini-1.5-flash-002\n",
            "models/gemini-1.5-flash-8b\n",
            "models/gemini-1.5-flash-8b-001\n",
            "models/gemini-1.5-flash-8b-latest\n",
            "models/gemini-1.5-flash-8b-exp-0827\n",
            "models/gemini-1.5-flash-8b-exp-0924\n",
            "models/learnlm-1.5-pro-experimental\n",
            "models/gemini-exp-1114\n",
            "models/gemini-exp-1121\n",
            "models/embedding-001\n",
            "models/text-embedding-004\n",
            "models/aqa\n"
          ]
        }
      ]
    },
    {
      "cell_type": "markdown",
      "source": [
        "The [`models.list`](https://ai.google.dev/api/models#method:-models.list) response also returns additional information about the model's capabilities, like the token limits and supported parameters."
      ],
      "metadata": {
        "id": "iHqBFk5jOEnl"
      }
    },
    {
      "cell_type": "code",
      "source": [
        "for model in genai.list_models():\n",
        "  if model.name == 'models/gemini-1.5-flash':\n",
        "    print(model)\n",
        "    break"
      ],
      "metadata": {
        "colab": {
          "base_uri": "https://localhost:8080/",
          "height": 243
        },
        "id": "vY7g0ad1N8fr",
        "outputId": "56f879ea-e044-49a3-8763-47ae261d4021"
      },
      "execution_count": 14,
      "outputs": [
        {
          "output_type": "stream",
          "name": "stdout",
          "text": [
            "Model(name='models/gemini-1.5-flash',\n",
            "      base_model_id='',\n",
            "      version='001',\n",
            "      display_name='Gemini 1.5 Flash',\n",
            "      description=('Alias that points to the most recent stable version of Gemini 1.5 Flash, our '\n",
            "                   'fast and versatile multimodal model for scaling across diverse tasks.'),\n",
            "      input_token_limit=1000000,\n",
            "      output_token_limit=8192,\n",
            "      supported_generation_methods=['generateContent', 'countTokens'],\n",
            "      temperature=1.0,\n",
            "      max_temperature=2.0,\n",
            "      top_p=0.95,\n",
            "      top_k=40)\n"
          ]
        }
      ]
    },
    {
      "cell_type": "markdown",
      "source": [
        "## Explore generation parameters\n",
        "\n",
        "### Output length\n",
        "\n",
        "When generating text with an LLM, the output length affects cost and performance. Generating more tokens increases computation, leading to higher energy consumption, latency, and cost.\n",
        "\n",
        "To stop the model from generating tokens past a limit, you can specify the `max_output_tokens` parameter when using the Gemini API. Specifying this parameter does not influence the generation of the output tokens, so the output will not become more stylistically or textually succinct, but it will stop generating tokens once the specified length is reached. Prompt engineering may be required to generate a more complete output for your given limit."
      ],
      "metadata": {
        "id": "4LZ5IhEAOer3"
      }
    },
    {
      "cell_type": "code",
      "source": [
        "short_model = genai.GenerativeModel(\"gemini-1.5-flash\",\n",
        "                                    generation_config=genai.GenerationConfig(max_output_tokens=200))\n",
        "response = short_model.generate_content(\"Write a 1000 word essay on the importance of olives in modern society.\")\n",
        "Markdown(response.text)"
      ],
      "metadata": {
        "colab": {
          "base_uri": "https://localhost:8080/",
          "height": 217
        },
        "id": "YAg-MaF5OGqT",
        "outputId": "2d6f97e8-730a-4ce8-c922-d73b9406da73"
      },
      "execution_count": 15,
      "outputs": [
        {
          "output_type": "execute_result",
          "data": {
            "text/plain": [
              "<IPython.core.display.Markdown object>"
            ],
            "text/markdown": "## The Enduring Significance of Olives in Modern Society\n\nThe olive, a seemingly unassuming fruit, holds a position of profound significance in modern society far exceeding its simple culinary applications.  Its importance transcends geographical boundaries and cultural distinctions, weaving its way into the economic, environmental, agricultural, and even medicinal landscapes of the world.  From its ancient roots in the Mediterranean basin to its contemporary global reach, the olive’s influence is multifaceted and enduring, impacting diverse aspects of human life.\n\nOne of the most prominent roles of the olive in modern society is its economic contribution. The olive oil industry, a cornerstone of many Mediterranean economies, generates billions of dollars annually.  This revenue stream supports countless farmers, processors, distributors, and retailers, creating jobs and stimulating economic growth in regions that often rely heavily on agricultural production.  Countries like Spain, Italy, Greece, and Tunisia are major producers, with olive oil representing a significant percentage of their agricultural exports.  The economic impact extends beyond the primary production"
          },
          "metadata": {},
          "execution_count": 15
        }
      ]
    },
    {
      "cell_type": "code",
      "source": [
        "response = short_model.generate_content('Write a short poem on the importance of olives in modern society.')\n",
        "print(response.text)"
      ],
      "metadata": {
        "colab": {
          "base_uri": "https://localhost:8080/",
          "height": 191
        },
        "id": "w24m0inRPQVm",
        "outputId": "a071326e-f32a-45db-d9f9-e630a8fba31c"
      },
      "execution_count": 17,
      "outputs": [
        {
          "output_type": "stream",
          "name": "stdout",
          "text": [
            "From ancient groves to modern plate,\n",
            "The olive's gift, we celebrate.\n",
            "A humble fruit, a vibrant hue,\n",
            "In oil and brine, forever new.\n",
            "\n",
            "From salad dressing, rich and deep,\n",
            "To skincare secrets, secrets to keep,\n",
            "Its versatility, a timeless art,\n",
            "A tiny treasure, close to heart. \n",
            "\n"
          ]
        }
      ]
    },
    {
      "cell_type": "markdown",
      "source": [
        "### Temperature\n",
        "\n",
        "Temperature controls the degree of randomness in token selection. Higher temperatures result in a higher number of candidate tokens from which the next output token is selected, and can produce more diverse results, while lower temperatures have the opposite effect, such that a temperature of 0 results in greedy decoding, selecting the most probable token at each step.\n",
        "\n",
        "Temperature doesn't provide any guarantees of randomness, but it can be used to \"nudge\" the output somewhat.\n",
        "\n",
        "**Note that if you see a 429 Resource Exhausted error here, you may be able to edit the words in the prompt slightly to progress.**"
      ],
      "metadata": {
        "id": "SdEa2owWPmIp"
      }
    },
    {
      "cell_type": "code",
      "source": [
        "from google.api_core import retry\n",
        "\n",
        "retry_policy = {\n",
        "                 \"retry\": retry.Retry(predicate=retry.if_transient_error, initial=10, multiplier= 1.5, timeout=50)\n",
        "               }\n",
        "\n",
        "high_temp_model = genai.GenerativeModel(\"gemini-1.0-pro-001\",\n",
        "                                        generation_config=genai.GenerationConfig(temperature=2.0))\n",
        "\n",
        "for _ in range(5):\n",
        "  response = high_temp_model.generate_content(\"Pick a random colour... (respond in a single word)\", request_options=retry_policy)\n",
        "\n",
        "  if response.parts:\n",
        "    print(response.text, \"\\n\", \"-\" * 25 )"
      ],
      "metadata": {
        "colab": {
          "base_uri": "https://localhost:8080/",
          "height": 191
        },
        "id": "5LwNYW-kPcSm",
        "outputId": "dbf7fb3e-fb98-40f6-9983-55a2a7159fd6"
      },
      "execution_count": 20,
      "outputs": [
        {
          "output_type": "stream",
          "name": "stdout",
          "text": [
            "Fandom \n",
            " -------------------------\n",
            "Green \n",
            " -------------------------\n",
            "Cerise \n",
            " -------------------------\n",
            "Magenta \n",
            " -------------------------\n",
            "Amaranth \n",
            " -------------------------\n"
          ]
        }
      ]
    },
    {
      "cell_type": "markdown",
      "source": [
        "Now try the same prompt with temperature set to zero. Note that the output is not completely deterministic, as other parameters affect token selection, but the results will tend to be more stable."
      ],
      "metadata": {
        "id": "bLiovKfBRWHn"
      }
    },
    {
      "cell_type": "code",
      "source": [
        "low_temp_model = genai.GenerativeModel(\"gemini-1.0-pro-001\",\n",
        "                                       generation_config=genai.GenerationConfig(temperature=0.0))\n",
        "\n",
        "\n",
        "for _ in range(5):\n",
        "  response = low_temp_model.generate_content(\"Pick a random colour... (respond in a single word)\", request_options=retry_policy)\n",
        "\n",
        "  if response.parts:\n",
        "    print(response.text, \"\\n\", \"-\" * 25 )"
      ],
      "metadata": {
        "colab": {
          "base_uri": "https://localhost:8080/",
          "height": 191
        },
        "id": "CHn7yQ64Q1q5",
        "outputId": "2ae66a7d-8880-486e-9405-7426c1e8d6e7"
      },
      "execution_count": 22,
      "outputs": [
        {
          "output_type": "stream",
          "name": "stdout",
          "text": [
            "Azure \n",
            " -------------------------\n",
            "Azure \n",
            " -------------------------\n",
            "Azure \n",
            " -------------------------\n",
            "Azure \n",
            " -------------------------\n",
            "Azure \n",
            " -------------------------\n"
          ]
        }
      ]
    },
    {
      "cell_type": "markdown",
      "source": [
        "### Top-K and top-P\n",
        "\n",
        "Like temperature, top-K and top-P parameters are also used to control the diversity of the model's output.\n",
        "\n",
        "Top-K is a positive integer that defines the number of most probable tokens from which to select the output token. A top-K of 1 selects a single token, performing greedy decoding.\n",
        "\n",
        "Top-P defines the probability threshold that, once cumulatively exceeded, tokens stop being selected as candidates. A top-P of 0 is typically equivalent to greedy decoding, and a top-P of 1 typically selects every token in the model's vocabulary.\n",
        "\n",
        "When both are supplied, the Gemini API will filter top-K tokens first, then top-P and then finally sample from the candidate tokens using the supplied temperature.\n",
        "\n",
        "Run this example a number of times, change the settings and observe the change in output."
      ],
      "metadata": {
        "id": "W55WHoccR13d"
      }
    },
    {
      "cell_type": "code",
      "source": [
        "flash_model_001 = genai.GenerativeModel(\"gemini-1.5-flash-001\",\n",
        "                                        generation_config=genai.GenerationConfig(\n",
        "                                            # These are the default values for gemini-1.5-flash-001.\n",
        "                                            temperature = 1.0,\n",
        "                                            top_k = 64,\n",
        "                                            top_p = 0.95\n",
        "\n",
        "                                        ))\n",
        "\n",
        "story_prompt = \"You are a creative writer. Write a short story about a cat who goes on an adventure.\"\n",
        "\n",
        "response = flash_model_001.generate_content(story_prompt, request_options=retry_policy)\n",
        "print(response.text)"
      ],
      "metadata": {
        "colab": {
          "base_uri": "https://localhost:8080/",
          "height": 245
        },
        "id": "g2Nthx0iRkT0",
        "outputId": "d3a35ee6-c688-472b-8e68-cf6a444025e5"
      },
      "execution_count": 27,
      "outputs": [
        {
          "output_type": "stream",
          "name": "stdout",
          "text": [
            "Jasper was a tabby with an insatiable curiosity. He spent his days gazing out the window, watching the world beyond his cozy apartment with a yearning heart. One day, a particularly enticing bird flitted past the window, disappearing into the bustling city. Jasper, unable to resist the allure of the unknown, decided to follow.\n",
            "\n",
            "He slipped out the window, his small body a blur of fur and whiskers, and landed softly on the fire escape. The world was a cacophony of smells and sights. The air buzzed with the scent of exhaust fumes and fresh pastries, the sidewalks teeming with people and their furry, four-legged companions. \n",
            "\n",
            "His journey took him through bustling markets, past the melodic tunes of street musicians, and into the cool shade of a towering park. He chased pigeons with a mischievous glint in his eyes, encountered a grumpy bulldog with a disdainful sniff, and even befriended a fluffy white rabbit with a penchant for carrots. \n",
            "\n",
            "Jasper's adventure took him to a bustling alleyway where he stumbled upon a hidden haven. It was a secret cat café, filled with the aroma of catnip and the purrs of countless feline companions. He was greeted by a ginger cat named Clementine, who had a twinkle in her emerald eyes. She told him stories of the alleyways, the humans who fed them, and the secret network of cat tunnels that stretched across the city. \n",
            "\n",
            "As the sun began to set, painting the sky in hues of orange and purple, Jasper knew it was time to return home. He bid farewell to Clementine, promising to return to the cat café soon. He navigated the city with newfound confidence, each alleyway and street corner a familiar landmark. \n",
            "\n",
            "He squeezed back through his window, feeling a warmth spread through his small body. He had conquered the world, or at least a small part of it, and returned a changed cat. He curled up on his favorite cushion, a content purr rumbling in his chest. The world outside was filled with endless adventures, and Jasper knew, with a certainty only a brave cat could feel, that he would be back to explore it again.  \n",
            "\n"
          ]
        }
      ]
    },
    {
      "cell_type": "markdown",
      "source": [
        "## Prompting\n",
        "\n",
        "This section contains some prompts from the chapter for you to try out directly in the API. Try changing the text here to see how each prompt performs with different instructions, more examples, or any other changes you can think of."
      ],
      "metadata": {
        "id": "qavNAxGy1Ku3"
      }
    },
    {
      "cell_type": "markdown",
      "source": [
        "### Zero-shot\n",
        "\n",
        "Zero-shot prompts are prompts that describe the request for the model directly.\n",
        "\n",
        "<table align=left>\n",
        "  <td>\n",
        "    <a target=\"_blank\" href=\"https://aistudio.google.com/prompts/1gzKKgDHwkAvexG5Up0LMtl1-6jKMKe4g\"><img src=\"https://ai.google.dev/site-assets/images/marketing/home/icon-ais.png\" style=\"height: 24px\" height=24/> Open in AI Studio</a>\n",
        "  </td>\n",
        "</table>"
      ],
      "metadata": {
        "id": "UEGFd5YW1OvR"
      }
    },
    {
      "cell_type": "code",
      "source": [
        "flash_model_001 = genai.GenerativeModel(\"gemini-1.5-flash-001\",\n",
        "                                        generation_config=genai.GenerationConfig(\n",
        "                                            temperature=0.1,\n",
        "                                            top_p=1,\n",
        "                                            max_output_tokens=5,\n",
        "                                        ))\n",
        "zero_shot_prompt = \"\"\"Classify movie reviews as POSITIVE, NEUTRAL or NEGATIVE.\n",
        "Review: \"Her\" is a disturbing study revealing the direction\n",
        "humanity is headed if AI is allowed to keep evolving,\n",
        "unchecked. I wish there were more movies like this masterpiece.\n",
        "Sentiment: \"\"\"\n",
        "\n",
        "\n",
        "response = flash_model_001.generate_content(zero_shot_prompt, request_options=retry_policy)\n",
        "Markdown(response.text)"
      ],
      "metadata": {
        "colab": {
          "base_uri": "https://localhost:8080/",
          "height": 46
        },
        "id": "df_6J-I3SHCF",
        "outputId": "7863419c-3406-4740-d7cd-194660b1ec4b"
      },
      "execution_count": 29,
      "outputs": [
        {
          "output_type": "execute_result",
          "data": {
            "text/plain": [
              "<IPython.core.display.Markdown object>"
            ],
            "text/markdown": "Sentiment: **POSITIVE**"
          },
          "metadata": {},
          "execution_count": 29
        }
      ]
    },
    {
      "cell_type": "markdown",
      "source": [
        "#### Enum mode\n",
        "\n",
        "The models are trained to generate text, and can sometimes produce more text than you may wish for. In the preceding example, the model will output the label, sometimes it can include a preceding \"Sentiment\" label, and without an output token limit, it may also add explanatory text afterwards.\n",
        "\n",
        "The Gemini API has an [Enum mode](https://github.com/google-gemini/cookbook/blob/main/quickstarts/Enum.ipynb) feature that allows you to constrain the output to a fixed set of values."
      ],
      "metadata": {
        "id": "iveF_ciO16hH"
      }
    },
    {
      "cell_type": "code",
      "source": [
        "import enum\n",
        "\n",
        "class Sentiment(enum.Enum):\n",
        "  POSITIVE = \"positive\"\n",
        "  NEGATIVE = \"negative\"\n",
        "  NEUTRAL = \"neutral\"\n",
        "\n",
        "flash_model_001 = genai.GenerativeModel(\"gemini-1.5-flash-001\",\n",
        "                                        generation_config=genai.GenerationConfig(\n",
        "                                            temperature=0.1,\n",
        "                                            top_k=1,\n",
        "                                            response_mime_type=\"text/x.enum\",\n",
        "                                            response_schema=Sentiment\n",
        "                                        ))\n",
        "\n",
        "response = flash_model_001.generate_content(zero_shot_prompt, request_options=retry_policy)\n",
        "\n",
        "Markdown(response.text)"
      ],
      "metadata": {
        "colab": {
          "base_uri": "https://localhost:8080/",
          "height": 46
        },
        "id": "aa51bfGv1u3H",
        "outputId": "1c3c3f4c-de6a-484d-eaff-a40e40ae2f59"
      },
      "execution_count": 31,
      "outputs": [
        {
          "output_type": "execute_result",
          "data": {
            "text/plain": [
              "<IPython.core.display.Markdown object>"
            ],
            "text/markdown": "positive"
          },
          "metadata": {},
          "execution_count": 31
        }
      ]
    },
    {
      "cell_type": "markdown",
      "source": [
        "### One-shot and few-shot\n",
        "\n",
        "Providing an example of the expected response is known as a \"one-shot\" prompt. When you provide multiple examples, it is a \"few-shot\" prompt.\n",
        "\n",
        "<table align=left>\n",
        "  <td>\n",
        "    <a target=\"_blank\" href=\"https://aistudio.google.com/prompts/1jjWkjUSoMXmLvMJ7IzADr_GxHPJVV2bg\"><img src=\"https://ai.google.dev/site-assets/images/marketing/home/icon-ais.png\" style=\"height: 24px\" height=24/> Open in AI Studio</a>\n",
        "  </td>\n",
        "</table>\n"
      ],
      "metadata": {
        "id": "v1h8Qwjq3y9C"
      }
    },
    {
      "cell_type": "code",
      "source": [
        "flash_latest = genai.GenerativeModel(\"gemini-1.5-flash-latest\",\n",
        "                                     generation_config=genai.GenerationConfig(\n",
        "                                         temperature=0.1,\n",
        "                                         top_p=1,\n",
        "                                         max_output_tokens=250\n",
        "                                     ))\n",
        "\n",
        "few_shot_prompt = \"\"\"Parse a customer's pizza order into valid JSON:\n",
        "\n",
        "EXAMPLE:\n",
        "I want a small pizza with cheese, tomato sauce, and pepperoni.\n",
        "JSON Response:\n",
        "```\n",
        "{\n",
        "\"size\": \"small\",\n",
        "\"type\": \"normal\",\n",
        "\"ingredients\": [\"cheese\", \"tomato sauce\", \"peperoni\"]\n",
        "}\n",
        "```\n",
        "\n",
        "EXAMPLE:\n",
        "Can I get a large pizza with tomato sauce, basil and mozzarella\n",
        "JSON Response:\n",
        "```\n",
        "{\n",
        "\"size\": \"large\",\n",
        "\"type\": \"normal\",\n",
        "\"ingredients\": [\"tomato sauce\", \"basil\", \"mozzarella\"]\n",
        "}\n",
        "\n",
        "ORDER:\n",
        "\"\"\"\n",
        "\n",
        "customer_order = \"Give me a large with cheese & pineapple\"\n",
        "\n",
        "response = flash_latest.generate_content([few_shot_prompt, customer_order], request_options=retry_policy)\n",
        "\n",
        "Markdown(response.text)"
      ],
      "metadata": {
        "colab": {
          "base_uri": "https://localhost:8080/",
          "height": 104
        },
        "id": "Q_77GM052i9G",
        "outputId": "b72ff2ac-d990-4c88-8915-773d18de05f4"
      },
      "execution_count": 32,
      "outputs": [
        {
          "output_type": "execute_result",
          "data": {
            "text/plain": [
              "<IPython.core.display.Markdown object>"
            ],
            "text/markdown": "```json\n{\n  \"size\": \"large\",\n  \"type\": \"normal\",\n  \"ingredients\": [\"cheese\", \"pineapple\"]\n}\n```\n"
          },
          "metadata": {},
          "execution_count": 32
        }
      ]
    },
    {
      "cell_type": "markdown",
      "source": [
        "#### JSON mode\n",
        "\n",
        "To provide control over the schema, and to ensure that you only receive JSON (with no other text or markdown), you can use the Gemini API's [JSON mode](https://github.com/google-gemini/cookbook/blob/main/quickstarts/JSON_mode.ipynb). This forces the model to constrain decoding, such that token selection is guided by the supplied schema."
      ],
      "metadata": {
        "id": "TT4XgPgP5byh"
      }
    },
    {
      "cell_type": "code",
      "source": [
        "import typing_extensions as typing\n",
        "\n",
        "class PizzaOrder(typing.TypedDict):\n",
        "    size: str\n",
        "    ingredients: list[str]\n",
        "    type: str\n",
        "\n",
        "# class PizzaOrder(typing.TypedDict):\n",
        "#     size: str\n",
        "#     ingredients: list[str]\n",
        "#     type: str\n",
        "\n",
        "\n",
        "\n",
        "flash_model_latest = genai.GenerativeModel(\"gemini-1.5-flash-latest\",\n",
        "                                           generation_config=genai.GenerationConfig(\n",
        "                                               temperature=0.1,\n",
        "                                               response_mime_type=\"application/json\",\n",
        "                                               response_schema=PizzaOrder\n",
        "                                           ))\n",
        "\n",
        "\n",
        "response = flash_model_latest.generate_content(\"Can I have a large dessert pizza with apple and chocolate\")\n"
      ],
      "metadata": {
        "id": "6TMuS73R4-LW"
      },
      "execution_count": 43,
      "outputs": []
    },
    {
      "cell_type": "code",
      "source": [
        "print(response.text)"
      ],
      "metadata": {
        "colab": {
          "base_uri": "https://localhost:8080/"
        },
        "id": "fjsBzMNn6a0X",
        "outputId": "7ca977ce-fd03-4a75-9859-8c2cc6c56686"
      },
      "execution_count": 44,
      "outputs": [
        {
          "output_type": "stream",
          "name": "stdout",
          "text": [
            "{\"ingredients\": [\"apple\", \"chocolate\"], \"size\": \"large\", \"type\": \"dessert pizza\"}\n"
          ]
        }
      ]
    },
    {
      "cell_type": "markdown",
      "source": [
        "### Chain of Thought (CoT)\n",
        "\n",
        "Direct prompting on LLMs can return answers quickly and (in terms of output token usage) efficiently, but they can be prone to hallucination. The answer may \"look\" correct (in terms of language and syntax) but is incorrect in terms of factuality and reasoning.\n",
        "\n",
        "Chain-of-Thought prompting is a technique where you instruct the model to output intermediate reasoning steps, and it typically gets better results, especially when combined with few-shot examples. It is worth noting that this technique doesn't completely eliminate hallucinations, and that it tends to cost more to run, due to the increased token count.\n",
        "\n",
        "As models like the Gemini family are trained to be \"chatty\" and provide reasoning steps, you can ask the model to be more direct in the prompt."
      ],
      "metadata": {
        "id": "8nxwXQjA9IKK"
      }
    },
    {
      "cell_type": "code",
      "source": [
        "prompt = \"\"\"When I was 4 years old, my partner was 3 times my age. Now, I\n",
        "am 20 years old. How old is my partner? Return the answer directly.\"\"\"\n",
        "\n",
        "flash_latest = genai.GenerativeModel(\"gemini-1.5-flash-latest\")\n",
        "\n",
        "response = flash_latest.generate_content(prompt, request_options=retry_policy)\n",
        "\n",
        "print(response.text)\n"
      ],
      "metadata": {
        "colab": {
          "base_uri": "https://localhost:8080/",
          "height": 52
        },
        "id": "BpzfUl-16cLu",
        "outputId": "996a40e4-e1bc-4a27-ccb6-39a451bb841e"
      },
      "execution_count": 47,
      "outputs": [
        {
          "output_type": "stream",
          "name": "stdout",
          "text": [
            "41\n",
            "\n"
          ]
        }
      ]
    },
    {
      "cell_type": "markdown",
      "source": [
        "Now try the same approach, but indicate to the model that it should \"think step by step\"."
      ],
      "metadata": {
        "id": "aL5m6bmf_FsI"
      }
    },
    {
      "cell_type": "code",
      "source": [
        "prompt = \"\"\"When I was 4 years old, my partner was 3 times my age. Now,\n",
        "I am 20 years old. How old is my partner? Let's think step by step.\"\"\"\n",
        "\n",
        "response = flash_latest.generate_content(prompt, request_options=retry_policy)\n",
        "Markdown(response.text)"
      ],
      "metadata": {
        "colab": {
          "base_uri": "https://localhost:8080/",
          "height": 192
        },
        "id": "R8aQsBqT-p36",
        "outputId": "8567f6e4-b1c7-415b-803a-058122f84d62"
      },
      "execution_count": 49,
      "outputs": [
        {
          "output_type": "execute_result",
          "data": {
            "text/plain": [
              "<IPython.core.display.Markdown object>"
            ],
            "text/markdown": "Step 1: Find the partner's age when you were 4.\n\n* When you were 4, your partner was 3 times your age, so they were 3 * 4 = 12 years old.\n\nStep 2: Find the age difference between you and your partner.\n\n* The age difference is 12 - 4 = 8 years.\n\nStep 3: Calculate your partner's current age.\n\n* Since you are now 20 years old, and the age difference is 8 years, your partner is currently 20 + 8 = 28 years old.\n\nTherefore, your partner is now $\\boxed{28}$ years old.\n"
          },
          "metadata": {},
          "execution_count": 49
        }
      ]
    },
    {
      "cell_type": "markdown",
      "source": [
        "### ReAct: Reason and act\n",
        "\n",
        "In this example you will run a ReAct prompt directly in the Gemini API and perform the searching steps yourself. As this prompt follows a well-defined structure, there are frameworks available that wrap the prompt into easier-to-use APIs that make tool calls automatically, such as the LangChain example from the chapter.\n",
        "\n",
        "To try this out with the Wikipedia search engine, check out the [Searching Wikipedia with ReAct](https://github.com/google-gemini/cookbook/blob/main/examples/Search_Wikipedia_using_ReAct.ipynb) cookbook example.\n",
        "\n",
        "\n",
        "> Note: The prompt and in-context examples used here are from [https://github.com/ysymyth/ReAct](https://github.com/ysymyth/ReAct) which is published under a [MIT license](https://opensource.org/licenses/MIT), Copyright (c) 2023 Shunyu Yao.\n",
        "\n",
        "<table align=left>\n",
        "  <td>\n",
        "    <a target=\"_blank\" href=\"https://aistudio.google.com/prompts/18oo63Lwosd-bQ6Ay51uGogB3Wk3H8XMO\"><img src=\"https://ai.google.dev/site-assets/images/marketing/home/icon-ais.png\" style=\"height: 24px\" height=24/> Open in AI Studio</a>\n",
        "  </td>\n",
        "</table>\n"
      ],
      "metadata": {
        "id": "kNNQOorO_tC4"
      }
    },
    {
      "cell_type": "code",
      "source": [
        "model_instructions = \"\"\"\n",
        "Solve a question answering task with interleaving Thought, Action, Observation steps. Thought can reason about the current situation,\n",
        "Observation is understanding relevant information from an Action's output and Action can be one of three types:\n",
        " (1) <search>entity</search>, which searches the exact entity on Wikipedia and returns the first paragraph if it exists. If not, it\n",
        "     will return some similar entities to search and you can try to search the information from those topics.\n",
        " (2) <lookup>keyword</lookup>, which returns the next sentence containing keyword in the current context. This only does exact matches,\n",
        "     so keep your searches short.\n",
        " (3) <finish>answer</finish>, which returns the answer and finishes the task.\n",
        "\"\"\"\n",
        "\n",
        "example1 = \"\"\"Question\n",
        "Musician and satirist Allie Goertz wrote a song about the \"The Simpsons\" character Milhouse, who Matt Groening named after who?\n",
        "\n",
        "Thought 1\n",
        "The question simplifies to \"The Simpsons\" character Milhouse is named after who. I only need to search Milhouse and find who it is named after.\n",
        "\n",
        "Action 1\n",
        "<search>Milhouse</search>\n",
        "\n",
        "Observation 1\n",
        "Milhouse Mussolini Van Houten is a recurring character in the Fox animated television series The Simpsons voiced by Pamela Hayden and created by Matt Groening.\n",
        "\n",
        "Thought 2\n",
        "The paragraph does not tell who Milhouse is named after, maybe I can look up \"named after\".\n",
        "\n",
        "Action 2\n",
        "<lookup>named after</lookup>\n",
        "\n",
        "Observation 2\n",
        "Milhouse was named after U.S. president Richard Nixon, whose middle name was Milhous.\n",
        "\n",
        "Thought 3\n",
        "Milhouse was named after U.S. president Richard Nixon, so the answer is Richard Nixon.\n",
        "\n",
        "Action 3\n",
        "<finish>Richard Nixon</finish>\n",
        "\"\"\"\n",
        "\n",
        "example2 = \"\"\"Question\n",
        "What is the elevation range for the area that the eastern sector of the Colorado orogeny extends into?\n",
        "\n",
        "Thought 1\n",
        "I need to search Colorado orogeny, find the area that the eastern sector of the Colorado orogeny extends into, then find the elevation range of the area.\n",
        "\n",
        "Action 1\n",
        "<search>Colorado orogeny</search>\n",
        "\n",
        "Observation 1\n",
        "The Colorado orogeny was an episode of mountain building (an orogeny) in Colorado and surrounding areas.\n",
        "\n",
        "Thought 2\n",
        "It does not mention the eastern sector. So I need to look up eastern sector.\n",
        "\n",
        "Action 2\n",
        "<lookup>eastern sector</lookup>\n",
        "\n",
        "Observation 2\n",
        "The eastern sector extends into the High Plains and is called the Central Plains orogeny.\n",
        "\n",
        "Thought 3\n",
        "The eastern sector of Colorado orogeny extends into the High Plains. So I need to search High Plains and find its elevation range.\n",
        "\n",
        "Action 3\n",
        "<search>High Plains</search>\n",
        "\n",
        "Observation 3\n",
        "High Plains refers to one of two distinct land regions\n",
        "\n",
        "Thought 4\n",
        "I need to instead search High Plains (United States).\n",
        "\n",
        "Action 4\n",
        "<search>High Plains (United States)</search>\n",
        "\n",
        "Observation 4\n",
        "The High Plains are a subregion of the Great Plains. From east to west, the High Plains rise in elevation from around 1,800 to 7,000 ft (550 to 2,130m).\n",
        "\n",
        "Thought 5\n",
        "High Plains rise in elevation from around 1,800 to 7,000 ft, so the answer is 1,800 to 7,000 ft.\n",
        "\n",
        "Action 5\n",
        "<finish>1,800 to 7,000 ft</finish>\n",
        "\"\"\"\n",
        "\n",
        "# Come up with more examples yourself, or take a look through https://github.com/ysymyth/ReAct/"
      ],
      "metadata": {
        "id": "cornPwSO_eXZ"
      },
      "execution_count": 50,
      "outputs": []
    },
    {
      "cell_type": "markdown",
      "source": [
        "To capture a single step at a time, while ignoring any hallucinated Observation steps, you will use `stop_sequences` to end the generation process. The steps are `Thought`, `Action`, `Observation`, in that order."
      ],
      "metadata": {
        "id": "5zsJWM5j_9DX"
      }
    },
    {
      "cell_type": "code",
      "source": [
        "question = \"\"\"Question\n",
        "Who was the youngest author listed on the transformers NLP paper?\n",
        "\"\"\"\n",
        "\n",
        "model = genai.GenerativeModel('gemini-1.5-flash-001')\n",
        "react_chat = model.start_chat()\n",
        "\n",
        "\n",
        "config=genai.GenerationConfig(stop_sequences=[\"\\nObservation\"])\n",
        "\n",
        "response = react_chat.send_message([model_instructions, example1, example2, question],\n",
        "                        generation_config=config,\n",
        "                        request_options=retry_policy)\n",
        "\n",
        "\n",
        "print(response.text)"
      ],
      "metadata": {
        "colab": {
          "base_uri": "https://localhost:8080/",
          "height": 121
        },
        "id": "XPaRdt-j_4gg",
        "outputId": "a2f5e677-0967-4d4c-f12f-c7d44bb07fbd"
      },
      "execution_count": 52,
      "outputs": [
        {
          "output_type": "stream",
          "name": "stdout",
          "text": [
            "Thought 1\n",
            "I need to search the Transformers NLP paper and find the list of authors. Then I need to find the youngest author.\n",
            "\n",
            "Action 1\n",
            "<search>Transformers NLP paper</search>\n",
            "\n"
          ]
        }
      ]
    },
    {
      "cell_type": "code",
      "source": [
        "observation = \"\"\"Observation 1\n",
        "[1706.03762] Attention Is All You Need\n",
        "Ashish Vaswani, Noam Shazeer, Niki Parmar, Jakob Uszkoreit, Llion Jones, Aidan N. Gomez, Lukasz Kaiser, Illia Polosukhin\n",
        "We propose a new simple network architecture, the Transformer, based solely on attention mechanisms, dispensing with recurrence and convolutions entirely.\n",
        "\"\"\"\n",
        "\n",
        "resp = react_chat.send_message(observation, generation_config=config, request_options=retry_policy)\n",
        "print(resp.text)"
      ],
      "metadata": {
        "colab": {
          "base_uri": "https://localhost:8080/",
          "height": 121
        },
        "id": "rdKDhZ6IAj8d",
        "outputId": "a4b1b286-723b-4f65-9b44-fb52cb5a3c43"
      },
      "execution_count": 54,
      "outputs": [
        {
          "output_type": "stream",
          "name": "stdout",
          "text": [
            "Thought 2\n",
            "The observation does not contain information about the age of the authors. I need to look up each author individually to find out their age.\n",
            "\n",
            "Action 2\n",
            "<search>Ashish Vaswani age</search> \n",
            "\n"
          ]
        }
      ]
    },
    {
      "cell_type": "markdown",
      "source": [
        "This process repeats until the `<finish>` action is reached. You can continue running this yourself if you like, or try the [Wikipedia example](https://github.com/google-gemini/cookbook/blob/main/examples/Search_Wikipedia_using_ReAct.ipynb) to see a fully automated ReAct system at work."
      ],
      "metadata": {
        "id": "JTFd4eq5BH_F"
      }
    },
    {
      "cell_type": "markdown",
      "source": [
        "## Code prompting\n",
        "\n",
        "\n",
        "### Generating code\n",
        "\n",
        "The Gemini family of models can be used to generate code, configuration and scripts. Generating code can be helpful when learning to code, learning a new language or for rapidly generating a first draft.\n",
        "\n",
        "It's important to be aware that since LLMs can't reason, and can repeat training data, it's essential to read and test your code first, and comply with any relevant licenses.\n",
        "\n",
        "<table align=left>\n",
        "  <td>\n",
        "    <a target=\"_blank\" href=\"https://aistudio.google.com/prompts/1YX71JGtzDjXQkgdes8bP6i3oH5lCRKxv\"><img src=\"https://ai.google.dev/site-assets/images/marketing/home/icon-ais.png\" style=\"height: 24px\" height=24/> Open in AI Studio</a>\n",
        "  </td>\n",
        "</table>"
      ],
      "metadata": {
        "id": "hLbbrDDkBWOs"
      }
    },
    {
      "cell_type": "code",
      "source": [
        "model = genai.GenerativeModel(\n",
        "    'gemini-1.5-flash-latest',\n",
        "    generation_config=genai.GenerationConfig(\n",
        "        temperature=1,\n",
        "        top_p=1,\n",
        "        max_output_tokens=1024,\n",
        "    ))\n",
        "\n",
        "# Gemini 1.5 models are very chatty, so it helps to specify they stick to the code.\n",
        "code_prompt = \"\"\"\n",
        "Write a Python function to calculate the factorial of a number. No explanation, provide only the code.\n",
        "\"\"\"\n",
        "\n",
        "response = model.generate_content(code_prompt, request_options=retry_policy)\n",
        "Markdown(response.text)"
      ],
      "metadata": {
        "colab": {
          "base_uri": "https://localhost:8080/",
          "height": 104
        },
        "id": "BBgCUSeuA94V",
        "outputId": "a2e3a94a-5c37-4483-cffd-fe3e614b6aab"
      },
      "execution_count": 55,
      "outputs": [
        {
          "output_type": "execute_result",
          "data": {
            "text/plain": [
              "<IPython.core.display.Markdown object>"
            ],
            "text/markdown": "```python\ndef factorial(n):\n  if n == 0:\n    return 1\n  else:\n    return n * factorial(n-1)\n```\n"
          },
          "metadata": {},
          "execution_count": 55
        }
      ]
    },
    {
      "cell_type": "markdown",
      "source": [
        "### Code execution\n",
        "\n",
        "The Gemini API can automatically run generated code too, and will return the output.\n",
        "\n",
        "<table align=left>\n",
        "  <td>\n",
        "    <a target=\"_blank\" href=\"https://aistudio.google.com/prompts/11veFr_VYEwBWcLkhNLr-maCG0G8sS_7Z\"><img src=\"https://ai.google.dev/site-assets/images/marketing/home/icon-ais.png\" style=\"height: 24px\" height=24/> Open in AI Studio</a>\n",
        "  </td>\n",
        "</table>"
      ],
      "metadata": {
        "id": "yVOl9lHcBlal"
      }
    },
    {
      "cell_type": "code",
      "source": [
        "model = genai.GenerativeModel(\n",
        "    'gemini-1.5-flash-latest',\n",
        "    tools='code_execution',)\n",
        "\n",
        "code_exec_prompt = \"\"\"\n",
        "Calculate the sum of the first 14 prime numbers. Only consider the odd primes, and make sure you count them all.\n",
        "\"\"\"\n",
        "\n",
        "response = model.generate_content(code_exec_prompt, request_options=retry_policy)\n",
        "Markdown(response.text)"
      ],
      "metadata": {
        "colab": {
          "base_uri": "https://localhost:8080/",
          "height": 464
        },
        "id": "Ai5YrgduBdNY",
        "outputId": "bc103e74-427a-4aac-8868-df2c06470940"
      },
      "execution_count": 57,
      "outputs": [
        {
          "output_type": "execute_result",
          "data": {
            "text/plain": [
              "<IPython.core.display.Markdown object>"
            ],
            "text/markdown": "To calculate the sum of the first 14 odd prime numbers, I will first generate a list of prime numbers and then sum the first 14 odd primes from that list.  I will use Python for this task.\n\n\n\n``` python\nimport sympy\n\ndef is_prime(n):\n    return sympy.isprime(n)\n\nprimes = []\nnum = 2\ncount = 0\nwhile count < 14:\n    if is_prime(num) and num % 2 != 0:\n        primes.append(num)\n        count += 1\n    num += 1\n\nprint(f'{primes=}')\nsum_of_primes = sum(primes)\nprint(f'{sum_of_primes=}')\n\n\n```\n```\nprimes=[3, 5, 7, 11, 13, 17, 19, 23, 29, 31, 37, 41, 43, 47]\nsum_of_primes=326\n\n```\nThe code generates a list of the first 14 odd prime numbers: [3, 5, 7, 11, 13, 17, 19, 23, 29, 31, 37, 41, 43, 47].  The sum of these numbers is 326.\n\nTherefore, the sum of the first 14 odd prime numbers is 326.\n"
          },
          "metadata": {},
          "execution_count": 57
        }
      ]
    },
    {
      "cell_type": "markdown",
      "source": [
        "### Explaining code\n",
        "\n",
        "The Gemini family of models can explain code to you too.\n",
        "\n",
        "<table align=left>\n",
        "  <td>\n",
        "    <a target=\"_blank\" href=\"https://aistudio.google.com/prompts/1N7LGzWzCYieyOf_7bAG4plrmkpDNmUyb\"><img src=\"https://ai.google.dev/site-assets/images/marketing/home/icon-ais.png\" style=\"height: 24px\" height=24/> Open in AI Studio</a>\n",
        "  </td>\n",
        "</table>"
      ],
      "metadata": {
        "id": "35ICxGUBCFxY"
      }
    },
    {
      "cell_type": "code",
      "source": [
        "file_contents = !curl https://raw.githubusercontent.com/magicmonty/bash-git-prompt/refs/heads/master/gitprompt.sh\n",
        "\n",
        "explain_prompt = f\"\"\"\n",
        "Please explain what this file does at a very high level. What is it, and why would I use it?\n",
        "\n",
        "```\n",
        "{file_contents}\n",
        "```\n",
        "\"\"\"\n",
        "\n",
        "model = genai.GenerativeModel('gemini-1.5-flash-latest')\n",
        "\n",
        "response = model.generate_content(explain_prompt, request_options=retry_policy)\n",
        "Markdown(response.text)"
      ],
      "metadata": {
        "colab": {
          "base_uri": "https://localhost:8080/",
          "height": 406
        },
        "id": "IbhQvbgJBjYA",
        "outputId": "65e6cbc2-182d-4594-b454-eaad06dc2ec6"
      },
      "execution_count": 58,
      "outputs": [
        {
          "output_type": "execute_result",
          "data": {
            "text/plain": [
              "<IPython.core.display.Markdown object>"
            ],
            "text/markdown": "This file is a Bash script that provides a highly customizable Git prompt for your terminal.  In simpler terms, it enhances your command-line interface to show you information about your current Git repository (branch, changes, etc.) directly in your prompt.\n\n**What it does at a high level:**\n\n1. **Loads configuration:** It reads configuration files (themes and settings) to determine the appearance and behavior of the prompt.  This allows you to tailor colors, symbols, and displayed information.\n\n2. **Gets Git status:** It uses `git` commands to retrieve information about the repository's status (branch, changes, conflicts, etc.).\n\n3. **Formats the prompt:** It constructs the actual prompt string based on the gathered Git status and the user's configuration.  This includes adding colors and symbols to make the information visually clear.\n\n4. **Integrates with the shell:** It modifies the `PROMPT_COMMAND` variable in your Bash shell to execute the prompt generation code before each command line prompt is displayed.\n\n5. **Handles asynchronous operations:** It uses background processes to perform actions like fetching remote changes without blocking the user's interaction.\n\n\n**Why you would use it:**\n\n* **Improved awareness of Git status:**  Instead of constantly typing `git status`, you'll see a summary of your repository's state right in your terminal prompt.  This helps you quickly understand if you have uncommitted changes, are on a different branch, or have other relevant Git information.\n\n* **Customization:** It allows extensive customization of the prompt's appearance (colors, symbols) and the information displayed.\n\n* **Efficiency:**  The script efficiently gathers Git status information and integrates it seamlessly into your workflow.\n\n\nIn short, it's a tool to make your Git workflow more efficient and visually informative by incorporating crucial Git information directly into your shell prompt.\n"
          },
          "metadata": {},
          "execution_count": 58
        }
      ]
    },
    {
      "cell_type": "code",
      "source": [],
      "metadata": {
        "id": "7HhMwUS4CMUG"
      },
      "execution_count": null,
      "outputs": []
    }
  ]
}